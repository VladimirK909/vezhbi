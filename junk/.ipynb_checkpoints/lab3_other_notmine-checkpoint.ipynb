{
 "cells": [
  {
   "cell_type": "code",
   "execution_count": 1,
   "id": "2677a94b-d9ab-45bf-b246-37595ecff6c2",
   "metadata": {},
   "outputs": [],
   "source": [
    "import heapq"
   ]
  },
  {
   "cell_type": "code",
   "execution_count": 3,
   "id": "b56db064-279d-486e-94fa-a7e4768c3f74",
   "metadata": {},
   "outputs": [],
   "source": [
    "def uniform_cost_search(initial_state, goal_state):\n",
    "    if initial_state == goal_state:\n",
    "        return (0, initial_state)\n",
    "    expanded = set()\n",
    "    queue = [[(0, (initial_state))]]\n",
    "    heapq.heapify(queue)\n",
    "\n",
    "    while queue:\n",
    "        state_list = heapq.heappop(queue)\n",
    "        weight, state_to_expand = state_list[0]\n",
    "        if state_to_expand[0] == goal_state[0]:\n",
    "            return state_list\n",
    "        if state_to_expand not in expanded:\n",
    "            for new_weight, new_state in expand_state(state_to_expand):\n",
    "                if new_state not in expanded:\n",
    "                    heapq.heappush(queue, [(weight + new_weight, new_state)] + state_list)\n",
    "            expanded.add(state_to_expand)"
   ]
  },
  {
   "cell_type": "code",
   "execution_count": 5,
   "id": "018a3829-795e-4a94-986e-89dc3124b7c8",
   "metadata": {},
   "outputs": [],
   "source": [
    "def transfer_to_other_glass(source, sink, sink_capacity):\n",
    "    return max(source - (sink_capacity - sink), 0), min(sink + source, sink_capacity)"
   ]
  },
  {
   "cell_type": "code",
   "execution_count": 10,
   "id": "5f75a88c-f914-43ac-81bf-f4302a222290",
   "metadata": {},
   "outputs": [],
   "source": [
    "def expand_state(state):\n",
    "    g0, g1, g2 = state\n",
    "    states = []\n",
    "   \n",
    "    for i in range(len(state)):\n",
    "        state_list = list(state)\n",
    "        state_list1 = list(state)\n",
    "        state_list[i] = capacities[i]\n",
    "        state_list1[i] = 0\n",
    "        if (state[i] < capacities[i]):\n",
    "            cost = capacities[i] - state[i]\n",
    "            states.append((cost,tuple(state_list)))\n",
    "        if (state[i] > 0):\n",
    "            cost1 = 3 * state[i]\n",
    "            states.append((cost1,tuple(state_list1)))\n",
    "    new_source, new_sink = transfer_to_other_glass(g0, g1, capacities[1])\n",
    "    states.append((0,(new_source, new_sink, g2)))\n",
    "    new_source, new_sink = transfer_to_other_glass(g1, g0, capacities[0])\n",
    "    states.append((0,(new_sink, new_source, g2)))\n",
    "    new_source, new_sink = transfer_to_other_glass(g0, g2, capacities[2])\n",
    "    states.append((0,(new_source, g1, new_sink)))\n",
    "    new_source, new_sink = transfer_to_other_glass(g2, g0, capacities[0])\n",
    "    states.append((0,(new_sink, g1, new_source)))\n",
    "    new_source, new_sink = transfer_to_other_glass(g1, g2, capacities[2])\n",
    "    states.append((0,(g0, new_source, new_sink)))\n",
    "    new_source, new_sink = transfer_to_other_glass(g2, g1, capacities[1])\n",
    "    states.append((0,(g0, new_sink, new_source)))\n",
    "    \n",
    "    return states"
   ]
  },
  {
   "cell_type": "code",
   "execution_count": 20,
   "id": "fc447686-ab36-47bf-a70e-086576eef291",
   "metadata": {},
   "outputs": [
    {
     "data": {
      "text/plain": [
       "(0, (2, 8, 1))"
      ]
     },
     "execution_count": 20,
     "metadata": {},
     "output_type": "execute_result"
    }
   ],
   "source": [
    "capacities = (5,8,10)\n",
    "uniform_cost_search((2,8,1), (2,8,1))"
   ]
  },
  {
   "cell_type": "code",
   "execution_count": null,
   "id": "6173de25-76c3-407a-975c-cf0e513c3418",
   "metadata": {},
   "outputs": [],
   "source": []
  },
  {
   "cell_type": "code",
   "execution_count": null,
   "id": "b5755ff6-242f-4d92-a50f-3fabe740096a",
   "metadata": {},
   "outputs": [],
   "source": []
  },
  {
   "cell_type": "code",
   "execution_count": null,
   "id": "36cbb386-c64f-4a3f-ab67-67b058021528",
   "metadata": {},
   "outputs": [],
   "source": []
  },
  {
   "cell_type": "code",
   "execution_count": null,
   "id": "e0b1ae14-9c34-4327-85cd-89c480030eca",
   "metadata": {},
   "outputs": [],
   "source": []
  },
  {
   "cell_type": "code",
   "execution_count": null,
   "id": "b09a145c-1045-4e85-830b-0cec8c3ac153",
   "metadata": {},
   "outputs": [],
   "source": []
  },
  {
   "cell_type": "code",
   "execution_count": null,
   "id": "44ac290a-2c57-4cd4-bb4a-7e8e8919d61d",
   "metadata": {},
   "outputs": [],
   "source": []
  },
  {
   "cell_type": "code",
   "execution_count": null,
   "id": "14f54f73-71d6-4ff7-be9c-1386c85cb495",
   "metadata": {},
   "outputs": [],
   "source": []
  },
  {
   "cell_type": "code",
   "execution_count": null,
   "id": "0f74eef7-0fc5-43d6-88af-f085ea37054c",
   "metadata": {},
   "outputs": [],
   "source": []
  },
  {
   "cell_type": "code",
   "execution_count": null,
   "id": "8a8f3f8f-bae2-45f3-9fa7-ffeaa9419fec",
   "metadata": {},
   "outputs": [],
   "source": []
  }
 ],
 "metadata": {
  "kernelspec": {
   "display_name": "Python 3",
   "language": "python",
   "name": "python3"
  },
  "language_info": {
   "codemirror_mode": {
    "name": "ipython",
    "version": 3
   },
   "file_extension": ".py",
   "mimetype": "text/x-python",
   "name": "python",
   "nbconvert_exporter": "python",
   "pygments_lexer": "ipython3",
   "version": "3.8.8"
  }
 },
 "nbformat": 4,
 "nbformat_minor": 5
}
