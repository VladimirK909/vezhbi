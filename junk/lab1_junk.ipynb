{
 "cells": [
  {
   "cell_type": "code",
   "execution_count": 4,
   "id": "9c817763-5ab0-4ed5-9f2e-3f32e6da2533",
   "metadata": {},
   "outputs": [],
   "source": [
    "from collections import deque"
   ]
  },
  {
   "cell_type": "code",
   "execution_count": 51,
   "id": "1b5d912c-6206-4429-a49a-7af2ab6e2b29",
   "metadata": {},
   "outputs": [
    {
     "data": {
      "text/plain": [
       "[(4, 5), (4, 7), (3, 4), (1, 4), (3, 8), (1, 8)]"
      ]
     },
     "execution_count": 51,
     "metadata": {},
     "output_type": "execute_result"
    }
   ],
   "source": [
    "#OLD\n",
    "def expand_state(state):\n",
    "    new_states = []\n",
    "    \n",
    "    new_state = (state[0] - 2, state[1] - 1)\n",
    "    if (0 < new_state[0] < 9) and (0 < new_state[1] < 9):\n",
    "        new_states.append(new_state)\n",
    "        \n",
    "    new_state = (state[0] - 2, state[1] + 1)\n",
    "    if (0 < new_state[0] < 9) and (0 < new_state[1] < 9):\n",
    "        new_states.append(new_state)\n",
    "    \n",
    "    new_state = (state[0] + 2, state[1] - 1)\n",
    "    if (0 < new_state[0] < 9) and (0 < new_state[1] < 9):\n",
    "        new_states.append(new_state)\n",
    "        \n",
    "    new_state = (state[0] + 2, state[1] + 1)\n",
    "    if (0 < new_state[0] < 9) and (0 < new_state[1] < 9):\n",
    "        new_states.append(new_state)\n",
    "        \n",
    "    new_state = (state[0] + 1, state[1] - 2)\n",
    "    if (0 < new_state[0] < 9) and (0 < new_state[1] < 9):\n",
    "        new_states.append(new_state)\n",
    "        \n",
    "    new_state = (state[0] - 1, state[1] - 2)\n",
    "    if (0 < new_state[0] < 9) and (0 < new_state[1] < 9):\n",
    "        new_states.append(new_state)\n",
    "        \n",
    "    new_state = (state[0] + 1, state[1] + 2)\n",
    "    if (0 < new_state[0] < 9) and (0 < new_state[1] < 9):\n",
    "        new_states.append(new_state)\n",
    "    \n",
    "    new_state = (state[0] - 1, state[1] + 2)\n",
    "    if (0 < new_state[0] < 9) and (0 < new_state[1] < 9):\n",
    "        new_states.append(new_state)\n",
    "        \n",
    "    return new_states\n",
    "\n",
    "expand_state((2,6))"
   ]
  },
  {
   "cell_type": "code",
   "execution_count": 71,
   "id": "add3c3d6-9605-4148-afcc-0d9acbd08327",
   "metadata": {},
   "outputs": [
    {
     "data": {
      "text/plain": [
       "[(4, 7), (4, 5), (3, 8), (3, 4), (1, 8), (1, 4)]"
      ]
     },
     "execution_count": 71,
     "metadata": {},
     "output_type": "execute_result"
    }
   ],
   "source": [
    "def expand_state(state):\n",
    "    new_states = []\n",
    "    \n",
    "    moves = [(-2,1),(-2,-1),(2,1),(2,-1),(1,2),(1,-2),(-1,2),(-1,-2)]\n",
    "    for i in moves:\n",
    "        new_state = (state[0] + i[0], state[1] + i[1])\n",
    "        if (0 < new_state[0] < 9) and (0 < new_state[1] < 9):\n",
    "            new_states.append(new_state)\n",
    "    return new_states\n",
    "\n",
    "expand_state((2,6))"
   ]
  },
  {
   "cell_type": "code",
   "execution_count": null,
   "id": "68944736-0d1e-4fcf-a90f-1fee56e10f1c",
   "metadata": {},
   "outputs": [],
   "source": [
    "'''def breadth_first_search_find_path(start, goal, verbose=False):\n",
    "    steps = 0\n",
    "    # Ако почетниот јазол е еднаков на целниот, тогаш нема логика да пребаруваме воопшто\n",
    "    if start == goal:\n",
    "        if verbose:\n",
    "            print('Почетнoтo и бараното поле се исти')\n",
    "            print('Бројот на чекори е ' + steps)\n",
    "        return []\n",
    "    # Користиме листа на посетени јазли која всушност е податочна структура множество. \n",
    "    # За посетен јазол го сметаме оној јазол кој ќе го истражиме како сосед на јазолот кој го разгрануваме.\n",
    "    visited = {start}\n",
    "    # Користиме двојно поврзана листа која ни е редицата од која ќе го земаме следниот јазол за разгранување.\n",
    "    # Тука ја памтиме и моменталната патека за секој јазол од почетниот.\n",
    "    states_queue = deque([start])\n",
    "    # Пребаруваме сѐ додека има јазли за разгранување во редицата.\n",
    "    while queue:\n",
    "        if verbose:\n",
    "            print('Ред за разгранување:')\n",
    "            for element in queue:\n",
    "                print(element, end=' ')\n",
    "            print()\n",
    "        # Членови на редицата јазли се патеките од почетниот јазол до некој јазол кој треба да се разграни.\n",
    "        # За да го земаме наредниот јазол за разгранување, \n",
    "        #    ние треба од редицата да ја извадиме патеката на тој јазол.\n",
    "        vertex_list = queue.popleft()\n",
    "        # Јазолот за разгранување е послениот во оваа листа.\n",
    "        vertex_to_expand = vertex_list[-1]\n",
    "        if verbose:\n",
    "            print('Го разгрануваме јазолот {}'.format(vertex_to_expand))\n",
    "        # Го разгрануваме така што пребаруваме низ сите негови соседи.\n",
    "        for next_state in expand_state(element):\n",
    "            if neighbour in visited:\n",
    "                if verbose:\n",
    "                    print('{} е веќе посетен'.format(neighbour))\n",
    "            else:\n",
    "                # Ако некој сосед не е посетен, тогаш го додаваме во листата на посетени, \n",
    "                #     и во редицата на јазли за разгранување.\n",
    "                if verbose:\n",
    "                    print('{}, кој е соседен јазол на {} го немаме посетено до сега, затоа го додаваме во редот '\n",
    "                          'за разгранување и го означуваме како посетен'.format(neighbour, vertex_to_expand))\n",
    "                # Тука ја вршиме проверката дали сме стигнале до целниот јазол \n",
    "                if neighbour == goal_vertex:\n",
    "                    if verbose:\n",
    "                        print('Го пронајдовме посакуваниот јазол {}. Патеката да стигнеме до тука е {}'\n",
    "                              .format(neighbour, vertex_list + [neighbour]))\n",
    "                    return vertex_list + [neighbour]\n",
    "                visited.add(neighbour)\n",
    "                # Бидејќи ова е пребарување прво по широчина, \n",
    "                #     соседот го додаваме на крајот од редицата јазли за разгранување.\n",
    "                # Соседот го врзуваме со патеката од почетниот јазол до моменталниот кој го разгрануваме.\n",
    "                queue.append(vertex_list + [neighbour])\n",
    "        if verbose:\n",
    "            print()'''"
   ]
  },
  {
   "cell_type": "code",
   "execution_count": 43,
   "id": "662fcdce-6985-41f6-a8d8-7d149268cf31",
   "metadata": {},
   "outputs": [],
   "source": [
    "#NE\n",
    "def search1(start, goal, alg):\n",
    "    steps = 0\n",
    "    if start == goal:\n",
    "        return steps, start\n",
    "    visited = {start}\n",
    "    states_queue = deque([start])\n",
    "    while states_queue:\n",
    "        state_to_expand = states_queue.popleft()\n",
    "        print(\"state_to_expand: \"+str(state_to_expand))\n",
    "        for next_state in expand_state(state_to_expand):\n",
    "            if next_state not in visited:\n",
    "                print(\"adding \"+str(next_state)+\" to queue\")\n",
    "                if next_state == goal:\n",
    "                    print(\"solution found!\")\n",
    "                    return len(states_queue), next_state\n",
    "                else:\n",
    "                    visited.add(next_state)\n",
    "                    #steps = steps + 1\n",
    "                    #print(\"state not final. adding 1 to step. Total number of steps: \"+str(steps))\n",
    "                if alg == 'dfs':\n",
    "                    states_queue.appendleft(next_state)\n",
    "                elif alg == 'bfs':\n",
    "                    states_queue.append(next_state)"
   ]
  },
  {
   "cell_type": "code",
   "execution_count": 41,
   "id": "a1ec6fba-85a8-4d56-9463-c7ef5392d1e5",
   "metadata": {},
   "outputs": [],
   "source": [
    "#NE\n",
    "def search(start, goal, alg):\n",
    "    steps = 0\n",
    "    if start == goal:\n",
    "        return steps, start\n",
    "    visited = {start}\n",
    "    states_queue = deque([start])\n",
    "    while states_queue:\n",
    "        state_to_expand = states_queue.popleft()\n",
    "        for next_state in expand_state(state_to_expand):\n",
    "            if next_state not in visited:\n",
    "                if next_state == goal:\n",
    "                    return len(states_queue), next_state\n",
    "                else:\n",
    "                    visited.add(next_state)\n",
    "                if alg == 'dfs':\n",
    "                    states_queue.appendleft(next_state)\n",
    "                elif alg == 'bfs':\n",
    "                    states_queue.append(next_state)"
   ]
  },
  {
   "cell_type": "code",
   "execution_count": 63,
   "id": "8a093e1a-0550-4e34-b87d-5923187ad76f",
   "metadata": {},
   "outputs": [],
   "source": [
    "def search_path(initial_state, goal_state):\n",
    "    visited = {initial_state}\n",
    "    states_queue = deque([[initial_state]])\n",
    "    while states_queue:\n",
    "        states_list = states_queue.popleft()\n",
    "        state_to_expand = states_list[-1]\n",
    "        for next_state in expand_state(state_to_expand):\n",
    "            if next_state not in visited:\n",
    "                if next_state == goal_state:\n",
    "                    return states_list + [next_state]\n",
    "                visited.add(next_state)\n",
    "                states_queue.append(states_list + [next_state])\n",
    "    return []"
   ]
  },
  {
   "cell_type": "code",
   "execution_count": 72,
   "id": "3369d95d-4282-4ba8-91d1-fd969f35e7e1",
   "metadata": {},
   "outputs": [
    {
     "name": "stdout",
     "output_type": "stream",
     "text": [
      "Wall time: 0 ns\n"
     ]
    },
    {
     "data": {
      "text/plain": [
       "[(2, 3), (4, 4), (5, 6)]"
      ]
     },
     "execution_count": 72,
     "metadata": {},
     "output_type": "execute_result"
    }
   ],
   "source": [
    "%%time\n",
    "res = search_path((2,3),(5,6))\n",
    "res"
   ]
  }
 ],
 "metadata": {
  "kernelspec": {
   "display_name": "Python 3",
   "language": "python",
   "name": "python3"
  },
  "language_info": {
   "codemirror_mode": {
    "name": "ipython",
    "version": 3
   },
   "file_extension": ".py",
   "mimetype": "text/x-python",
   "name": "python",
   "nbconvert_exporter": "python",
   "pygments_lexer": "ipython3",
   "version": "3.8.8"
  }
 },
 "nbformat": 4,
 "nbformat_minor": 5
}
