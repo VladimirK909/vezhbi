{
 "cells": [
  {
   "cell_type": "markdown",
   "id": "2485669b",
   "metadata": {
    "tags": []
   },
   "source": [
    "# Претурање скапа вода"
   ]
  },
  {
   "cell_type": "markdown",
   "id": "2731747c-c7ed-481e-8570-84a24d3a1370",
   "metadata": {},
   "source": [
    "Имате на располагање 3 садови. Нивниот капацитет е 5, 8 и 10 соодветно.  На почетокот сите садови се празни. Задачата е да претурите 1 литар во садот од 5 литри. Можете да претурате вода меѓу садовите, но не знаете точно колку претурате бидејќи садовите не се обележани. Единствено може да го испразните садот од кој претурате или да го наполните до врв садот во кој претурате. Постои и чешма од која може да надополните некој сад до врвот. Секогаш може да ја истурите водата од некој сад. Скратено: имате на располагање 3 садови. Нивниот капацитет е (x, y, z) соодветно. Почетната состојба е (x_0, y_0, z_0). Задачата е да стигнете до посакуваната состојба.\n",
    "\n",
    "Дополнително, секој нов наточен литар се казнува со 1 поен (еквивалентно на 1 потег), а секој истурен литар се казнува со 3 поени (еквивалетно на 3 потези)."
   ]
  },
  {
   "cell_type": "code",
   "execution_count": 1,
   "id": "42f57960",
   "metadata": {},
   "outputs": [],
   "source": [
    "from collections import deque\n",
    "from itertools import combinations\n",
    "import heapq"
   ]
  },
  {
   "cell_type": "code",
   "execution_count": 2,
   "id": "f9ee5ffc",
   "metadata": {},
   "outputs": [],
   "source": [
    "def transfer_to_other_glass(source, sink, sink_capacity):\n",
    "    return max(source - (sink_capacity - sink), 0), min(sink + source, sink_capacity)"
   ]
  },
  {
   "cell_type": "code",
   "execution_count": 8,
   "id": "46a2b397",
   "metadata": {},
   "outputs": [],
   "source": [
    "def expand_state(weight, state):\n",
    "    capacities = (5, 8, 10)\n",
    "    glass_0, glass_1, glass_2 = state\n",
    "\n",
    "    new_states = []\n",
    "\n",
    "    if glass_0 < capacities[0]:\n",
    "        new_states.append((weight + capacities[0] - glass_0, (capacities[0], glass_1, glass_2)))\n",
    "    if glass_1 < capacities[1]:\n",
    "        new_states.append((weight + capacities[1] - glass_1, (glass_0, capacities[1], glass_2)))\n",
    "    if glass_2 < capacities[2]:\n",
    "        new_states.append((weight + capacities[2] - glass_2, (glass_0, glass_1, capacities[2])))\n",
    "    \n",
    "    if glass_0 > 0:\n",
    "        new_states.append((weight + 3 * glass_0, (0, glass_1, glass_2)))\n",
    "    if glass_1 > 0:\n",
    "        new_states.append((weight + 3 * glass_1, (glass_0, 0, glass_2)))\n",
    "    if glass_2 > 0:\n",
    "        new_states.append((weight + 3 * glass_2, (glass_0, glass_1, 0)))\n",
    "\n",
    "    new_source, new_sink = transfer_to_other_glass(glass_0, glass_1, capacities[1])\n",
    "    new_states.append((weight, (new_source, new_sink, glass_2)))\n",
    "\n",
    "    new_source, new_sink = transfer_to_other_glass(glass_1, glass_0, capacities[0])\n",
    "    new_states.append((weight, (new_sink, new_source, glass_2)))\n",
    "\n",
    "    new_source, new_sink = transfer_to_other_glass(glass_0, glass_2, capacities[2])\n",
    "    new_states.append((weight, (new_source, glass_1, new_sink)))\n",
    "\n",
    "    new_source, new_sink = transfer_to_other_glass(glass_2, glass_0, capacities[0])\n",
    "    new_states.append((weight, (new_sink, glass_1, new_source)))\n",
    "\n",
    "    new_source, new_sink = transfer_to_other_glass(glass_1, glass_2, capacities[2])\n",
    "    new_states.append((weight, (glass_0, new_source, new_sink)))\n",
    "\n",
    "    new_source, new_sink = transfer_to_other_glass(glass_2, glass_1, capacities[1])\n",
    "    new_states.append((weight, (glass_0, new_sink, new_source)))\n",
    "    \n",
    "    return new_states"
   ]
  },
  {
   "cell_type": "code",
   "execution_count": 18,
   "id": "8cc8d19a-4041-4a45-96f0-138c177cfa93",
   "metadata": {},
   "outputs": [],
   "source": [
    "def uniform_cost_search(starting_vertex, goal_vertex):\n",
    "    if starting_vertex == goal_vertex:\n",
    "        return\n",
    "    expanded = set()\n",
    "    queue = [(0, [starting_vertex])]\n",
    "    heapq.heapify(queue)\n",
    "    while queue:\n",
    "        weight, vertex_list = heapq.heappop(queue)\n",
    "        vertex_to_expand = vertex_list[-1]\n",
    "        if vertex_to_expand == goal_vertex:\n",
    "            return weight, vertex_list\n",
    "        if vertex_to_expand in expanded:\n",
    "            continue\n",
    "        for new_weight, neighbour in expand_state(weight, vertex_to_expand):\n",
    "            if neighbour in expanded:\n",
    "                continue\n",
    "            else:\n",
    "                heapq.heappush(queue, (weight + new_weight, vertex_list + [neighbour]))\n",
    "        expanded.add(vertex_to_expand)"
   ]
  },
  {
   "cell_type": "code",
   "execution_count": 29,
   "id": "dda112d9-6c55-4154-858f-38e5dc29eb67",
   "metadata": {},
   "outputs": [
    {
     "data": {
      "text/plain": [
       "(20, [(0, 0, 0), (5, 0, 0), (5, 0, 10)])"
      ]
     },
     "execution_count": 29,
     "metadata": {},
     "output_type": "execute_result"
    }
   ],
   "source": [
    "uniform_cost_search((0,0,0),(5,0,10))"
   ]
  }
 ],
 "metadata": {
  "kernelspec": {
   "display_name": "Python 3",
   "language": "python",
   "name": "python3"
  },
  "language_info": {
   "codemirror_mode": {
    "name": "ipython",
    "version": 3
   },
   "file_extension": ".py",
   "mimetype": "text/x-python",
   "name": "python",
   "nbconvert_exporter": "python",
   "pygments_lexer": "ipython3",
   "version": "3.8.8"
  }
 },
 "nbformat": 4,
 "nbformat_minor": 5
}
