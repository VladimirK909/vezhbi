{
 "cells": [
  {
   "cell_type": "code",
   "execution_count": 4,
   "id": "9c817763-5ab0-4ed5-9f2e-3f32e6da2533",
   "metadata": {},
   "outputs": [],
   "source": [
    "from collections import deque"
   ]
  },
  {
   "cell_type": "code",
   "execution_count": 1,
   "id": "add3c3d6-9605-4148-afcc-0d9acbd08327",
   "metadata": {},
   "outputs": [
    {
     "data": {
      "text/plain": [
       "[(4, 7), (4, 5), (3, 8), (3, 4), (1, 8), (1, 4)]"
      ]
     },
     "execution_count": 1,
     "metadata": {},
     "output_type": "execute_result"
    }
   ],
   "source": [
    "def expand_state(state):\n",
    "    \"\"\"\n",
    "    Функцијата expand_state прима торка (x,y) каде x е редот на почетната позиција на коњот, а y е колоната на почетната позиција на коњот.\n",
    "    Вредностите на х и у се од 1 до 8 согласно координатите на шаховската табла.\n",
    "    \"\"\"\n",
    "    new_states = []\n",
    "    \n",
    "    moves = [(-2,1),(-2,-1),(2,1),(2,-1),(1,2),(1,-2),(-1,2),(-1,-2)]\n",
    "    for i in moves:\n",
    "        new_state = (state[0] + i[0], state[1] + i[1])\n",
    "        if (0 < new_state[0] < 9) and (0 < new_state[1] < 9):\n",
    "            new_states.append(new_state)\n",
    "    return new_states\n",
    "\n",
    "expand_state((2,6))"
   ]
  },
  {
   "cell_type": "code",
   "execution_count": 2,
   "id": "8a093e1a-0550-4e34-b87d-5923187ad76f",
   "metadata": {},
   "outputs": [],
   "source": [
    "def search_path(initial_state, goal_state):\n",
    "    \"\"\"\n",
    "    Функцијата прима initial_state и goal_state, торки со формат (x,y) кои се почетната позиција на коњот \n",
    "    и посакуваната позиција на коњот соодветно.\n",
    "    Вредностите х и у во торките се од 1 до 8 согласно координатите на шаховската табла.\n",
    "    \n",
    "    Функцијата е аналогна на функцијата search_path во 02_Задачи_слепо_пребарување.ipynb тетратката во папката code.\n",
    "    \"\"\"\n",
    "    visited = {initial_state}\n",
    "    states_queue = deque([[initial_state]])\n",
    "    while states_queue:\n",
    "        states_list = states_queue.popleft()\n",
    "        state_to_expand = states_list[-1]\n",
    "        for next_state in expand_state(state_to_expand):\n",
    "            if next_state not in visited:\n",
    "                if next_state == goal_state:\n",
    "                    return states_list + [next_state]\n",
    "                visited.add(next_state)\n",
    "                states_queue.append(states_list + [next_state])\n",
    "    return []"
   ]
  },
  {
   "cell_type": "code",
   "execution_count": 6,
   "id": "3369d95d-4282-4ba8-91d1-fd969f35e7e1",
   "metadata": {},
   "outputs": [
    {
     "name": "stdout",
     "output_type": "stream",
     "text": [
      "[(2, 3), (4, 4), (3, 6), (2, 4)]\n",
      "Број на чекори: 3\n",
      "Wall time: 0 ns\n"
     ]
    }
   ],
   "source": [
    "%%time\n",
    "result = search_path((2,3),(2,4))\n",
    "print(result)\n",
    "print(\"Број на чекори:\",len(result)-1)"
   ]
  }
 ],
 "metadata": {
  "kernelspec": {
   "display_name": "Python 3",
   "language": "python",
   "name": "python3"
  },
  "language_info": {
   "codemirror_mode": {
    "name": "ipython",
    "version": 3
   },
   "file_extension": ".py",
   "mimetype": "text/x-python",
   "name": "python",
   "nbconvert_exporter": "python",
   "pygments_lexer": "ipython3",
   "version": "3.8.8"
  }
 },
 "nbformat": 4,
 "nbformat_minor": 5
}
