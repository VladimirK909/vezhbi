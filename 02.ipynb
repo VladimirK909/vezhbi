{
 "cells": [
  {
   "cell_type": "markdown",
   "metadata": {},
   "source": [
    "# Задачи од пребарување"
   ]
  },
  {
   "cell_type": "markdown",
   "metadata": {},
   "source": [
    "## Претурање вода во садови\n",
    "\n",
    "Имате на располагање 3 садови. Нивниот капацитет е 5, 8 и 10 соодветно.  На почетокот сите садови се празни. Задачата е да претурите 1 литар во садот од 5 литри. Можете да претурате вода меѓу садовите, но не знаете точно колку претурате бидејќи садовите не се обележани. Единствено може да го испразните садот од кој претурате или да го наполните до врв садот во кој претурате. Постои и чешма од која може да надополните некој сад до врвот. Секогаш може да ја истурите водата од некој сад. Скратено: имате на располагање 3 садови. Нивниот капацитет е (x, y, z) соодветно. Почетната состојба е (x_0, y_0, z_0). Задачата е да стигнете до посакуваната состојба."
   ]
  },
  {
   "cell_type": "code",
   "execution_count": 1,
   "metadata": {},
   "outputs": [],
   "source": [
    "from collections import deque\n",
    "from itertools import combinations"
   ]
  },
  {
   "cell_type": "code",
   "execution_count": 70,
   "metadata": {},
   "outputs": [],
   "source": [
    "def search_path(initial_state, goal_state):\n",
    "    visited = {initial_state}\n",
    "    states_queue = deque([[initial_state]])\n",
    "    while states_queue:\n",
    "        states_list = states_queue.popleft()\n",
    "        state_to_expand = states_list[-1]\n",
    "        for next_state in expand_state(state_to_expand):\n",
    "            if next_state not in visited:\n",
    "                if next_state == goal_state:\n",
    "                    return states_list + [next_state]\n",
    "                visited.add(next_state)\n",
    "                states_queue.append(states_list + [next_state])\n",
    "    return []"
   ]
  },
  {
   "cell_type": "code",
   "execution_count": 49,
   "metadata": {},
   "outputs": [],
   "source": [
    "def preturanje(state,x,y):\n",
    "    if (x == y):\n",
    "        return state\n",
    "    if (state[x] + state[y] > capacities[y]):\n",
    "        state[x] = state[x] - (capacities[y] - state[y])\n",
    "        state[y] = capacities[y]\n",
    "    else:\n",
    "        state[y] = state[y] + state[x]\n",
    "        state[x] = 0\n",
    "    return state"
   ]
  },
  {
   "cell_type": "code",
   "execution_count": 58,
   "metadata": {},
   "outputs": [],
   "source": [
    "def expand_state(state):\n",
    "    states = []\n",
    "    temp = list(state)\n",
    "    \n",
    "    #Praznenje\n",
    "    for i in range(len(temp)):\n",
    "        temp[i] = 0\n",
    "        states.append(tuple(temp))\n",
    "        temp[i] = state[i]\n",
    "        \n",
    "    #Polnenje\n",
    "    capacities = [5,8,10]\n",
    "    for i in range(len(temp)):\n",
    "        temp[i] = capacities[i]\n",
    "        states.append(tuple(temp))\n",
    "        temp[i] = state[i]\n",
    "    \n",
    "    #Preturanje\n",
    "    for i in range(len(temp)):\n",
    "        for j in range(len(temp)):\n",
    "            if (i == j):\n",
    "                continue\n",
    "            else:\n",
    "                states.append(tuple(preturanje(list(state),i,j)))\n",
    "    return states"
   ]
  },
  {
   "cell_type": "code",
   "execution_count": 71,
   "metadata": {},
   "outputs": [
    {
     "data": {
      "text/plain": [
       "[(0, 0, 0),\n",
       " (0, 8, 0),\n",
       " (5, 3, 0),\n",
       " (0, 3, 0),\n",
       " (3, 0, 0),\n",
       " (3, 8, 0),\n",
       " (3, 0, 8),\n",
       " (1, 0, 10),\n",
       " (1, 0, 0)]"
      ]
     },
     "execution_count": 71,
     "metadata": {},
     "output_type": "execute_result"
    }
   ],
   "source": [
    "search_path((0,0,0),(1,0,0))"
   ]
  },
  {
   "cell_type": "markdown",
   "metadata": {
    "tags": []
   },
   "source": [
    "## Поставување кралици на шаховска табла\n",
    "\n",
    "Распоредете N кралици на NxN шаховска табла така што кралиците нема да се напаѓаат."
   ]
  },
  {
   "cell_type": "code",
   "execution_count": 9,
   "metadata": {},
   "outputs": [],
   "source": [
    "from collections import deque\n",
    "import os"
   ]
  },
  {
   "cell_type": "code",
   "execution_count": 77,
   "metadata": {},
   "outputs": [],
   "source": [
    "def is_valid(new_state, new_queen_i, new_queen_j):\n",
    "    vertical_check = new_queen_j not in new_state\n",
    "    if not vertical_check:\n",
    "        return False\n",
    "    main_diagonal = new_queen_i - new_queen_j\n",
    "    anti_diagonal = new_queen_i + new_queen_j\n",
    "    other_queens = new_state[:N - new_state.count(None)]\n",
    "    for other_queen_i, other_queen_j in enumerate(other_queens):\n",
    "        if other_queen_i - other_queen_j == main_diagonal:\n",
    "            return False\n",
    "        if other_queen_i + other_queen_j == anti_diagonal:\n",
    "            return False\n",
    "    return True"
   ]
  },
  {
   "cell_type": "code",
   "execution_count": 75,
   "metadata": {},
   "outputs": [],
   "source": [
    "def expand_state(state):\n",
    "    states = []\n",
    "    available_places = state.count(None)\n",
    "    if available_places == 0:\n",
    "        return states\n",
    "    i = N - available_places\n",
    "    for j in range(N):\n",
    "        if is_valid(state, i, j):\n",
    "            new_state = list(state)\n",
    "            new_state[i] = j\n",
    "            states.append(tuple(new_state))    \n",
    "    return states"
   ]
  },
  {
   "cell_type": "code",
   "execution_count": 82,
   "metadata": {},
   "outputs": [],
   "source": [
    "def search(initial_state, alg):\n",
    "    visited = {initial_state}\n",
    "    states_queue = deque([initial_state])\n",
    "    while states_queue:\n",
    "        state_to_expand = states_queue.popleft()\n",
    "        for next_state in expand_state(state_to_expand):\n",
    "            if next_state not in visited:\n",
    "                if next_state.count(None) == 0:\n",
    "                    return next_state\n",
    "                visited.add(next_state)\n",
    "                if alg == 'dfs':\n",
    "                    states_queue.appendleft(next_state)\n",
    "                elif alg == 'bfs':\n",
    "                    states_queue.append(next_state)"
   ]
  },
  {
   "cell_type": "code",
   "execution_count": 83,
   "metadata": {},
   "outputs": [
    {
     "data": {
      "text/plain": [
       "(7, 3, 0, 2, 5, 1, 6, 4)"
      ]
     },
     "execution_count": 83,
     "metadata": {},
     "output_type": "execute_result"
    }
   ],
   "source": [
    "N = 8\n",
    "initial_state = (None,) * N\n",
    "queens = search(initial_state, alg='dfs')\n",
    "queens"
   ]
  },
  {
   "cell_type": "code",
   "execution_count": 18,
   "metadata": {},
   "outputs": [],
   "source": [
    "from collections import deque\n",
    "import os\n",
    "from pprint import pprint"
   ]
  },
  {
   "cell_type": "code",
   "execution_count": 85,
   "metadata": {},
   "outputs": [],
   "source": [
    "g = (\n",
    "    (5, 3, 0, 0, 7, 0, 0, 0, 0),\n",
    "    (6, 0, 0, 1, 9, 5, 0, 0, 0),\n",
    "    (0, 9, 8, 0, 0, 0, 0, 6, 0),\n",
    "    (8, 0, 0, 0, 6, 0, 0, 0, 3),\n",
    "    (4, 0, 0, 8, 0, 3, 0, 0, 1),\n",
    "    (7, 0, 0, 0, 2, 0, 0, 0, 6),\n",
    "    (0, 6, 0, 0, 0, 0, 2, 8, 0),\n",
    "    (0, 0, 0, 4, 1, 9, 0, 0, 5),\n",
    "    (0, 0, 0, 0, 8, 0, 0, 7, 9),\n",
    ")"
   ]
  },
  {
   "cell_type": "code",
   "execution_count": 87,
   "metadata": {},
   "outputs": [
    {
     "data": {
      "text/plain": [
       "(0, 2)"
      ]
     },
     "execution_count": 87,
     "metadata": {},
     "output_type": "execute_result"
    }
   ],
   "source": [
    "def find_next_zero(state):\n",
    "    for i in range(len(state)):\n",
    "        for j in range(len(state)):\n",
    "            if state[i][j] == 0:\n",
    "                return i, j\n",
    "            \n",
    "find_next_zero(g)"
   ]
  },
  {
   "cell_type": "code",
   "execution_count": 100,
   "metadata": {},
   "outputs": [],
   "source": [
    "def box(i,j,state):\n",
    "    return [state[3*(i//3) + di][3*(j//3) + dj] for di in range(3) for dj in range(3)]"
   ]
  },
  {
   "cell_type": "code",
   "execution_count": 101,
   "metadata": {},
   "outputs": [
    {
     "data": {
      "text/plain": [
       "[((5, 3, 0, 0, 7, 0, 0, 0, 0),\n",
       "  (6, 0, 0, 1, 9, 5, 0, 0, 0),\n",
       "  (0, 9, 8, 0, 0, 0, 0, 6, 0),\n",
       "  (8, 0, 0, 0, 6, 0, 0, 0, 3),\n",
       "  (4, 0, 0, 8, 0, 3, 0, 0, 1),\n",
       "  (7, 0, 0, 0, 2, 0, 0, 0, 6),\n",
       "  (0, 6, 0, 0, 0, 0, 2, 8, 0),\n",
       "  (0, 0, 0, 4, 1, 9, 0, 0, 5),\n",
       "  (0, 0, 0, 0, 8, 0, 0, 7, 9))]"
      ]
     },
     "execution_count": 101,
     "metadata": {},
     "output_type": "execute_result"
    }
   ],
   "source": [
    "def expand_state(state):\n",
    "    states = []\n",
    "    next_zero = find_next_zero(state)\n",
    "    if find_next_zero == None:\n",
    "        return states\n",
    "    i, j = next_zero\n",
    "    for n in range(10):\n",
    "        if ((n in state[i][:]) and (n in state[:][j]) and (n in box(i,j,state))):\n",
    "            new_state = [list(row) for row in state]\n",
    "            new_state[i][j] = n\n",
    "            states.append(tuple([tuple(row) for row in new_state]))\n",
    "    return states\n",
    "\n",
    "expand_state(g)"
   ]
  },
  {
   "cell_type": "code",
   "execution_count": 99,
   "metadata": {},
   "outputs": [
    {
     "data": {
      "text/plain": [
       "[((5, 3, 0, 0, 7, 0, 0, 0, 0),\n",
       "  (6, 0, 0, 1, 9, 5, 0, 0, 0),\n",
       "  (0, 9, 8, 0, 0, 0, 0, 6, 0),\n",
       "  (8, 0, 0, 0, 6, 0, 0, 0, 3),\n",
       "  (4, 0, 0, 8, 0, 3, 0, 0, 1),\n",
       "  (7, 0, 0, 0, 2, 0, 0, 0, 6),\n",
       "  (0, 6, 0, 0, 0, 0, 2, 8, 0),\n",
       "  (0, 0, 0, 4, 1, 9, 0, 0, 5),\n",
       "  (0, 0, 0, 0, 8, 0, 0, 7, 9))]"
      ]
     },
     "execution_count": 99,
     "metadata": {},
     "output_type": "execute_result"
    }
   ],
   "source": [
    "def expand_state1(state):\n",
    "    new_states = []\n",
    "    location_of_next_zero = find_next_zero(state)\n",
    "    if location_of_next_zero is None:\n",
    "        return []\n",
    "    i, j  = location_of_next_zero\n",
    "    unavailable_row = set(state[i])\n",
    "    unavailable_column = set([row[j] for row in state])\n",
    "    unavailable_square = set([state[3*(i//3) + di][3*(j//3) + dj] for di in range(3) for dj in range(3)])\n",
    "    unavailable = unavailable_row | unavailable_column | unavailable_square\n",
    "    available = set(range(1, 10)) - unavailable\n",
    "    if not available:\n",
    "        return []\n",
    "    for n in available:\n",
    "        new_state = [list(row) for row in state]\n",
    "        new_state[i][j] = n\n",
    "        new_states.append(tuple([tuple(row) for row in new_state]))\n",
    "    return new_states\n",
    "\n",
    "expand_state(g)"
   ]
  },
  {
   "cell_type": "code",
   "execution_count": 23,
   "metadata": {},
   "outputs": [],
   "source": [
    "def search(initial_state, alg):\n",
    "    visited = {initial_state}\n",
    "    states_queue = deque([initial_state])\n",
    "    while states_queue:\n",
    "        state_to_expand = states_queue.popleft()\n",
    "        for next_state in expand_state(state_to_expand):\n",
    "            if next_state not in visited:\n",
    "                if check_end(next_state):\n",
    "                    return next_state\n",
    "                visited.add(next_state)\n",
    "                if alg == 'dfs':\n",
    "                    states_queue.appendleft(next_state)\n",
    "                elif alg == 'bfs':\n",
    "                    states_queue.append(next_state)"
   ]
  },
  {
   "cell_type": "markdown",
   "metadata": {
    "tags": []
   },
   "source": [
    "## Најкратка патека за коњот во шахот\n",
    "\n",
    "Користејќи ја шаховската фигура коњ, најдете ја најкратката патека од едно до друго поле на шаховската табла."
   ]
  },
  {
   "cell_type": "code",
   "execution_count": 21,
   "metadata": {},
   "outputs": [],
   "source": [
    "from collections import deque"
   ]
  },
  {
   "cell_type": "code",
   "execution_count": 22,
   "metadata": {},
   "outputs": [],
   "source": [
    "def expand_state(state):\n",
    "    \"\"\"\n",
    "    Коњот се движи во Г форма, односно: или оди 2 полиња вертикално\n",
    "    (нагоре (+) и надолу(-)), а 1 поле хоризонтално (налево (-) и надесно(+)),\n",
    "    или обратно: 1 поле вертикално, а 2 полиња хоризонтално.\n",
    "    Елементите од листата `possible_moves` се торки чиј прв елемент ќе се\n",
    "    додаде на моменталниот ред каде се наоѓа коњот, а вториот елемент од\n",
    "    торката ќе се додаде на моменталната колона каде се наоѓа коњот.\n",
    "    Вака ќе симулираме придвижување на коњот по шаховската табла.\n",
    "    \"\"\"\n",
    "    new_states = []\n",
    "    i, j = state\n",
    "    possible_moves = [(i-1, j-2), (i-1, j+2), (i+1, j-2), (i+1, j+2),\n",
    "                      (i-2, j-1), (i-2, j+1), (i+2, j-1), (i+2, j+1)]\n",
    "    for m, n in possible_moves:\n",
    "        if m >= 0 and n >= 0 and m <= 7 and n <= 7:\n",
    "            new_states.append((m, n))\n",
    "    return new_states"
   ]
  },
  {
   "cell_type": "code",
   "execution_count": 23,
   "metadata": {},
   "outputs": [],
   "source": [
    "def search_path(initial_state, goal_state):\n",
    "    visited = {initial_state}\n",
    "    states_queue = deque([[initial_state]])\n",
    "    while states_queue:\n",
    "        states_list = states_queue.popleft()\n",
    "        state_to_expand = states_list[-1]\n",
    "        for next_state in expand_state(state_to_expand):\n",
    "            if next_state not in visited:\n",
    "                if next_state == goal_state:\n",
    "                    return states_list + [next_state]\n",
    "                visited.add(next_state)\n",
    "                states_queue.append(states_list + [next_state])\n",
    "    return []"
   ]
  },
  {
   "cell_type": "code",
   "execution_count": 24,
   "metadata": {},
   "outputs": [
    {
     "data": {
      "text/plain": [
       "[(0, 0), (1, 2), (0, 4), (1, 6), (3, 7)]"
      ]
     },
     "execution_count": 24,
     "metadata": {},
     "output_type": "execute_result"
    }
   ],
   "source": [
    "search_path(initial_state=(0, 0), goal_state=(3, 7))"
   ]
  },
  {
   "cell_type": "markdown",
   "metadata": {},
   "source": [
    "## Задачи за самостојно решавање"
   ]
  },
  {
   "cell_type": "markdown",
   "metadata": {},
   "source": [
    "1. Од папката exercises ќе најдете задача за самостојна работа каде треба да го најдете најмалиот број преминувања преку реката за околу 17 групи. Нормално, не мора да ги решавате сите 17, но одберете си некоја задача."
   ]
  },
  {
   "cell_type": "code",
   "execution_count": null,
   "metadata": {},
   "outputs": [],
   "source": []
  },
  {
   "cell_type": "code",
   "execution_count": null,
   "metadata": {},
   "outputs": [],
   "source": []
  },
  {
   "cell_type": "code",
   "execution_count": null,
   "metadata": {},
   "outputs": [],
   "source": []
  }
 ],
 "metadata": {
  "kernelspec": {
   "display_name": "Python 3",
   "language": "python",
   "name": "python3"
  },
  "language_info": {
   "codemirror_mode": {
    "name": "ipython",
    "version": 3
   },
   "file_extension": ".py",
   "mimetype": "text/x-python",
   "name": "python",
   "nbconvert_exporter": "python",
   "pygments_lexer": "ipython3",
   "version": "3.8.8"
  }
 },
 "nbformat": 4,
 "nbformat_minor": 4
}
